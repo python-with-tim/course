{
 "cells": [
  {
   "cell_type": "markdown",
   "metadata": {},
   "source": [
    "# Язык Python"
   ]
  },
  {
   "cell_type": "markdown",
   "metadata": {},
   "source": [
    "### Основыне применения языка Python\n",
    "\n",
    "- Разработка веб-приложений (стартапы)\n",
    "- Скрипты (автоматизация рутинных задач, системное администрирование)\n",
    "- Анализ данных\n",
    "- Машинное обучение \"из коробки\"\n",
    "  - Решать прикладные задачи готовыми алгоритмами - да\n",
    "  - Создавать свои алгоритмы - нет (скорее всего, понадобится C/C++/Rust)"
   ]
  },
  {
   "cell_type": "markdown",
   "metadata": {},
   "source": [
    "### Плюсы языка Python\n",
    "\n",
    "- Очень простой и понятный синтаксис\n",
    "- Относительно продуманная архитектура\n",
    "- Совместимость по памяти с низкоуровневыми языками (C/C++/Rust)"
   ]
  },
  {
   "cell_type": "markdown",
   "metadata": {},
   "source": [
    "### За счёт этих особенностей\n",
    "\n",
    "- Python \"склеивает\" разные технологии между собой\n",
    "  - Использовался в YouTube, DropBox, Google, Instagram, Spotify, BitTorrent...\n",
    "  - Но только с Python вы не сможете сделать свой YouTube :)\n",
    "- Python - главный язык программирования для не-программистов\n",
    "  - Учёныe\n",
    "  - Data Scientists\n",
    "  - DevOps (системное администрирование)\n",
    "- Какая бы новая область не появилась - её захватит Python\n",
    "- Если у вас есть задача - скорее всего, есть библиотека на Python для её решения"
   ]
  },
  {
   "cell_type": "markdown",
   "metadata": {},
   "source": [
    "📝 Придумайте любую прикладную задачу и попробуйте нагуглить библиотеку или гайд для её решения!"
   ]
  },
  {
   "cell_type": "markdown",
   "metadata": {},
   "source": [
    "### Минусы языка Python\n",
    "\n",
    "- Медленный\n",
    "  - Trade-off между скоростью и удобством\n",
    "  - Большая часть вычислений происходит за счёт других языков (C/C++/Rust)\n",
    "- Плохо подходит для разработки сложных систем"
   ]
  },
  {
   "cell_type": "markdown",
   "metadata": {},
   "source": [
    "### Python с точки зрения программиста\n",
    "\n",
    "- Интерпретируемый\n",
    "  - Код компилируетс в байт-код (промежуточный этап, что-то вроде РНК при синтезе белка)\n",
    "  - Интерпретатор (программа, которую вы ставите на помьютер) понимает байт-код и выполняет его\n",
    "  - Удобно и кроссплатформенно, но медленно"
   ]
  },
  {
   "cell_type": "code",
   "execution_count": null,
   "metadata": {},
   "outputs": [],
   "source": [
    "from IPython.display import SVG, display\n",
    "\n",
    "display(SVG('python.svg'))"
   ]
  },
  {
   "cell_type": "markdown",
   "metadata": {},
   "source": [
    "- Высокоуровневый\n",
    "  - Не нужно заботиться о памяти\n",
    "  - Много встроенных функций"
   ]
  },
  {
   "cell_type": "markdown",
   "metadata": {},
   "source": [
    "# Демонстрация: популярность языков"
   ]
  },
  {
   "cell_type": "markdown",
   "metadata": {},
   "source": [
    "### Imports and setup"
   ]
  },
  {
   "cell_type": "code",
   "execution_count": null,
   "metadata": {},
   "outputs": [],
   "source": [
    "! pip install tiobeindexpy pandas seaborn"
   ]
  },
  {
   "cell_type": "markdown",
   "metadata": {},
   "source": [
    "Если у вас проблемы с импортом tiobeindexpy - попробуйте `! pip install lxml`"
   ]
  },
  {
   "cell_type": "code",
   "execution_count": null,
   "metadata": {},
   "outputs": [],
   "source": [
    "from tiobeindexpy import tiobeindexpy\n",
    "\n",
    "import pandas as pd\n",
    "import matplotlib.pyplot as plt\n",
    "import seaborn as sns\n",
    "\n",
    "import string"
   ]
  },
  {
   "cell_type": "markdown",
   "metadata": {},
   "source": [
    "### Get the data"
   ]
  },
  {
   "cell_type": "code",
   "execution_count": null,
   "metadata": {},
   "outputs": [],
   "source": [
    "df = tiobeindexpy.top_20()\n",
    "df.head()"
   ]
  },
  {
   "cell_type": "markdown",
   "metadata": {},
   "source": [
    "📝 А как считать данные из excel-файла? Подсказка: функция `pd.something()`, чтобы найти функцию, используйте возможности IDE"
   ]
  },
  {
   "cell_type": "markdown",
   "metadata": {},
   "source": [
    "### Clean the data"
   ]
  },
  {
   "cell_type": "code",
   "execution_count": null,
   "metadata": {},
   "outputs": [],
   "source": [
    "df.dropna(axis='columns', inplace=True)\n",
    "df.head()"
   ]
  },
  {
   "cell_type": "markdown",
   "metadata": {},
   "source": [
    "📝 Как посмотреть информацию о датафрейме (то, что интуитивно приходит в голову - и есть правильный ответ)?"
   ]
  },
  {
   "cell_type": "code",
   "execution_count": null,
   "metadata": {},
   "outputs": [],
   "source": []
  },
  {
   "cell_type": "markdown",
   "metadata": {},
   "source": [
    "Мы видим, что колонки `Ratings` и `Change.1` имеют Dtype `object`, но это - числа в процентах, так что нужно обработать эти данные"
   ]
  },
  {
   "cell_type": "code",
   "execution_count": null,
   "metadata": {},
   "outputs": [],
   "source": [
    "def percent_to_float(x):\n",
    "    return float(x.strip('%'))"
   ]
  },
  {
   "cell_type": "code",
   "execution_count": null,
   "metadata": {},
   "outputs": [],
   "source": [
    "df['Change.1'].apply(percent_to_float).head()"
   ]
  },
  {
   "cell_type": "markdown",
   "metadata": {},
   "source": [
    "📝 Как записать очищенные данные в соответствующие колонки?"
   ]
  },
  {
   "cell_type": "code",
   "execution_count": null,
   "metadata": {},
   "outputs": [],
   "source": []
  },
  {
   "cell_type": "code",
   "execution_count": null,
   "metadata": {},
   "outputs": [],
   "source": [
    "df.rename(inplace=True, columns={\n",
    "    'Programming Language.1':'Programming Language',\n",
    "    'Change.1':'Change (%)',\n",
    "    'Ratings':'Ratings (%)'\n",
    "})"
   ]
  },
  {
   "cell_type": "markdown",
   "metadata": {},
   "source": [
    "📝 Как вывести первые несколько строк итогового датафрейма?"
   ]
  },
  {
   "cell_type": "code",
   "execution_count": null,
   "metadata": {},
   "outputs": [],
   "source": []
  },
  {
   "cell_type": "markdown",
   "metadata": {},
   "source": [
    "### Plot popularity"
   ]
  },
  {
   "cell_type": "markdown",
   "metadata": {},
   "source": [
    "📝 Как получить список всех колонок и записать его в переменную columns?"
   ]
  },
  {
   "cell_type": "code",
   "execution_count": null,
   "metadata": {},
   "outputs": [],
   "source": []
  },
  {
   "cell_type": "code",
   "execution_count": null,
   "metadata": {},
   "outputs": [],
   "source": [
    "columns[0]"
   ]
  },
  {
   "cell_type": "code",
   "execution_count": null,
   "metadata": {},
   "outputs": [],
   "source": [
    "label = str(columns[0])"
   ]
  },
  {
   "cell_type": "code",
   "execution_count": null,
   "metadata": {},
   "outputs": [],
   "source": [
    "def popularity_barplot(df, label, target='Programming Language', sort_by='Ratings (%)', n_top=10):\n",
    "\n",
    "    sns.barplot(\n",
    "        x=sort_by, y=target, data=df.head(n_top).sort_values(by=sort_by, ascending=False),\n",
    "        palette='crest_r',\n",
    "    )\n",
    "\n",
    "    plt.title(f'Popularity of Programming Languages ({label})')\n",
    "    plt.bar_label(plt.gca().containers[0], fmt='%.2f%%')\n",
    "\n",
    "    sns.despine()\n",
    "    plt.show()"
   ]
  },
  {
   "cell_type": "code",
   "execution_count": null,
   "metadata": {},
   "outputs": [],
   "source": [
    "popularity_barplot(df, label)"
   ]
  },
  {
   "cell_type": "code",
   "execution_count": null,
   "metadata": {},
   "outputs": [],
   "source": [
    "label = columns[1] + ' - ' + columns[0]"
   ]
  },
  {
   "cell_type": "markdown",
   "metadata": {},
   "source": [
    "📝 Как вывести аналогичный график для изменения популярности за последний год для 4 языков?"
   ]
  },
  {
   "cell_type": "code",
   "execution_count": null,
   "metadata": {},
   "outputs": [],
   "source": []
  },
  {
   "cell_type": "markdown",
   "metadata": {},
   "source": [
    "### See the change for 1 language"
   ]
  },
  {
   "cell_type": "code",
   "execution_count": null,
   "metadata": {},
   "outputs": [],
   "source": [
    "df.head()"
   ]
  },
  {
   "cell_type": "markdown",
   "metadata": {},
   "source": [
    "📝 Как получить процент за прошлый год и записать его в новую колонку?"
   ]
  },
  {
   "cell_type": "code",
   "execution_count": null,
   "metadata": {},
   "outputs": [],
   "source": []
  },
  {
   "cell_type": "code",
   "execution_count": null,
   "metadata": {},
   "outputs": [],
   "source": [
    "df.head()"
   ]
  },
  {
   "cell_type": "code",
   "execution_count": null,
   "metadata": {},
   "outputs": [],
   "source": [
    "df[df['Programming Language'] == 'JavaScript']"
   ]
  },
  {
   "cell_type": "markdown",
   "metadata": {},
   "source": [
    "А теперь мы оформим проделанную работу в виде сайта с интерактивными визуализацией и таблицей! Смотрите `streamlit.py`. Чтобы запустить сайт у себя на компьютере, нужно установить `streamlit` и запустить команду `streamlit run streamlit.py` через терминал (можно использовать встроенный в IDE терминал)"
   ]
  }
 ],
 "metadata": {
  "kernelspec": {
   "display_name": "Python 3.8.13 ('base')",
   "language": "python",
   "name": "python3"
  },
  "language_info": {
   "codemirror_mode": {
    "name": "ipython",
    "version": 3
   },
   "file_extension": ".py",
   "mimetype": "text/x-python",
   "name": "python",
   "nbconvert_exporter": "python",
   "pygments_lexer": "ipython3",
   "version": "3.8.13"
  },
  "orig_nbformat": 4,
  "vscode": {
   "interpreter": {
    "hash": "57818da3ee1fd01d36d722dc5d70d8ee0174abb1fbd688f676d98834109492dc"
   }
  }
 },
 "nbformat": 4,
 "nbformat_minor": 2
}
