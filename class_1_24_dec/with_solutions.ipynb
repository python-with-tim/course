{
 "cells": [
  {
   "cell_type": "markdown",
   "metadata": {},
   "source": [
    "# Язык Python"
   ]
  },
  {
   "cell_type": "markdown",
   "metadata": {},
   "source": [
    "Давайте каждый попробуйет написать свое имя в этой ячейке!"
   ]
  },
  {
   "cell_type": "markdown",
   "metadata": {},
   "source": [
    "### Основыне применения языка Python\n",
    "\n",
    "- Разработка веб-приложений (стартапы)\n",
    "- Скрипты (автоматизация рутинных задач, системное администрирование)\n",
    "- Анализ данных\n",
    "- Машинное обучение \"из коробки\"\n",
    "  - Решать прикладные задачи готовыми алгоритмами - да\n",
    "  - Создавать свои алгоритмы - нет (скорее всего, понадобится C/C++/Rust)"
   ]
  },
  {
   "cell_type": "markdown",
   "metadata": {},
   "source": [
    "### Плюсы языка Python\n",
    "\n",
    "- Очень простой и понятный синтаксис\n",
    "- Относительно продуманная архитектура\n",
    "- Совместимость по памяти с низкоуровневыми языками (C/C++/Rust)"
   ]
  },
  {
   "cell_type": "markdown",
   "metadata": {},
   "source": [
    "### За счёт этих особенностей\n",
    "\n",
    "- Python \"склеивает\" разные технологии между собой\n",
    "  - Использовался в YouTube, DropBox, Google, Instagram, Spotify, BitTorrent...\n",
    "  - Но только с Python вы не сможете сделать свой YouTube :)\n",
    "- Python - главный язык программирования для не-программистов\n",
    "  - Учёныe\n",
    "  - Data Scientists\n",
    "  - DevOps (системное администрирование)\n",
    "- Какая бы новая область не появилась - её захватит Python\n",
    "- Если у вас есть задача - скорее всего, есть библиотека на Python для её решения"
   ]
  },
  {
   "cell_type": "markdown",
   "metadata": {},
   "source": [
    "📝 Придумайте любую прикладную задачу!"
   ]
  },
  {
   "cell_type": "markdown",
   "metadata": {},
   "source": [
    "### Минусы языка Python\n",
    "\n",
    "- Медленный\n",
    "  - Trade-off между скоростью и удобством\n",
    "  - Большая часть вычислений происходит за счёт других языков (C/C++/Rust)\n",
    "- Плохо подходит для разработки сложных систем"
   ]
  },
  {
   "cell_type": "markdown",
   "metadata": {},
   "source": [
    "### Python с точки зрения программиста\n",
    "\n",
    "- Интерпретируемый\n",
    "  - Код компилируетс в байт-код (промежуточный этап, что-то вроде РНК при синтезе белка)\n",
    "  - Интерпретатор (программа, которую вы ставите на помьютер) понимает байт-код и выполняет его\n",
    "  - Удобно и кроссплатформенно, но медленно"
   ]
  },
  {
   "cell_type": "markdown",
   "metadata": {},
   "source": [
    "# Демонстрация: популярность языков"
   ]
  },
  {
   "cell_type": "code",
   "execution_count": 1,
   "metadata": {},
   "outputs": [
    {
     "name": "stdout",
     "output_type": "stream",
     "text": [
      "Requirement already satisfied: tiobeindexpy in /home/dreamtim/anaconda3/lib/python3.8/site-packages (1.0.0)\n",
      "Requirement already satisfied: requests in /home/dreamtim/anaconda3/lib/python3.8/site-packages (from tiobeindexpy) (2.28.1)\n",
      "Requirement already satisfied: beautifulsoup4 in /home/dreamtim/anaconda3/lib/python3.8/site-packages (from tiobeindexpy) (4.11.1)\n",
      "Requirement already satisfied: pandas in /home/dreamtim/anaconda3/lib/python3.8/site-packages (from tiobeindexpy) (1.5.0)\n",
      "Requirement already satisfied: soupsieve>1.2 in /home/dreamtim/anaconda3/lib/python3.8/site-packages (from beautifulsoup4->tiobeindexpy) (2.3.2.post1)\n",
      "Requirement already satisfied: python-dateutil>=2.8.1 in /home/dreamtim/anaconda3/lib/python3.8/site-packages (from pandas->tiobeindexpy) (2.8.2)\n",
      "Requirement already satisfied: pytz>=2020.1 in /home/dreamtim/anaconda3/lib/python3.8/site-packages (from pandas->tiobeindexpy) (2022.2.1)\n",
      "Requirement already satisfied: numpy>=1.20.3 in /home/dreamtim/anaconda3/lib/python3.8/site-packages (from pandas->tiobeindexpy) (1.23.1)\n",
      "Requirement already satisfied: certifi>=2017.4.17 in /home/dreamtim/anaconda3/lib/python3.8/site-packages (from requests->tiobeindexpy) (2022.12.7)\n",
      "Requirement already satisfied: urllib3<1.27,>=1.21.1 in /home/dreamtim/anaconda3/lib/python3.8/site-packages (from requests->tiobeindexpy) (1.26.11)\n",
      "Requirement already satisfied: charset-normalizer<3,>=2 in /home/dreamtim/anaconda3/lib/python3.8/site-packages (from requests->tiobeindexpy) (2.1.1)\n",
      "Requirement already satisfied: idna<4,>=2.5 in /home/dreamtim/anaconda3/lib/python3.8/site-packages (from requests->tiobeindexpy) (3.4)\n",
      "Requirement already satisfied: six>=1.5 in /home/dreamtim/anaconda3/lib/python3.8/site-packages (from python-dateutil>=2.8.1->pandas->tiobeindexpy) (1.16.0)\n"
     ]
    }
   ],
   "source": [
    "! pip install tiobeindexpy"
   ]
  },
  {
   "cell_type": "code",
   "execution_count": null,
   "metadata": {},
   "outputs": [],
   "source": [
    "from tiobeindexpy import tiobeindexpy\n",
    "\n",
    "import pandas as pd\n",
    "import matplotlib.pyplot as plt\n",
    "import seaborn as sns\n",
    "\n",
    "import string"
   ]
  },
  {
   "cell_type": "markdown",
   "metadata": {},
   "source": [
    "### Get the data"
   ]
  },
  {
   "cell_type": "code",
   "execution_count": null,
   "metadata": {},
   "outputs": [
    {
     "data": {
      "text/html": [
       "<div>\n",
       "<style scoped>\n",
       "    .dataframe tbody tr th:only-of-type {\n",
       "        vertical-align: middle;\n",
       "    }\n",
       "\n",
       "    .dataframe tbody tr th {\n",
       "        vertical-align: top;\n",
       "    }\n",
       "\n",
       "    .dataframe thead th {\n",
       "        text-align: right;\n",
       "    }\n",
       "</style>\n",
       "<table border=\"1\" class=\"dataframe\">\n",
       "  <thead>\n",
       "    <tr style=\"text-align: right;\">\n",
       "      <th></th>\n",
       "      <th>Dec 2022</th>\n",
       "      <th>Dec 2021</th>\n",
       "      <th>Change</th>\n",
       "      <th>Programming Language</th>\n",
       "      <th>Programming Language.1</th>\n",
       "      <th>Ratings</th>\n",
       "      <th>Change.1</th>\n",
       "    </tr>\n",
       "  </thead>\n",
       "  <tbody>\n",
       "    <tr>\n",
       "      <th>0</th>\n",
       "      <td>1</td>\n",
       "      <td>1</td>\n",
       "      <td>NaN</td>\n",
       "      <td>NaN</td>\n",
       "      <td>Python</td>\n",
       "      <td>16.66%</td>\n",
       "      <td>+3.76%</td>\n",
       "    </tr>\n",
       "    <tr>\n",
       "      <th>1</th>\n",
       "      <td>2</td>\n",
       "      <td>2</td>\n",
       "      <td>NaN</td>\n",
       "      <td>NaN</td>\n",
       "      <td>C</td>\n",
       "      <td>16.56%</td>\n",
       "      <td>+4.77%</td>\n",
       "    </tr>\n",
       "    <tr>\n",
       "      <th>2</th>\n",
       "      <td>3</td>\n",
       "      <td>4</td>\n",
       "      <td>NaN</td>\n",
       "      <td>NaN</td>\n",
       "      <td>C++</td>\n",
       "      <td>11.94%</td>\n",
       "      <td>+4.21%</td>\n",
       "    </tr>\n",
       "    <tr>\n",
       "      <th>3</th>\n",
       "      <td>4</td>\n",
       "      <td>3</td>\n",
       "      <td>NaN</td>\n",
       "      <td>NaN</td>\n",
       "      <td>Java</td>\n",
       "      <td>11.82%</td>\n",
       "      <td>+1.70%</td>\n",
       "    </tr>\n",
       "    <tr>\n",
       "      <th>4</th>\n",
       "      <td>5</td>\n",
       "      <td>5</td>\n",
       "      <td>NaN</td>\n",
       "      <td>NaN</td>\n",
       "      <td>C#</td>\n",
       "      <td>4.92%</td>\n",
       "      <td>-1.48%</td>\n",
       "    </tr>\n",
       "  </tbody>\n",
       "</table>\n",
       "</div>"
      ],
      "text/plain": [
       "   Dec 2022  Dec 2021  Change  Programming Language Programming Language.1  \\\n",
       "0         1         1     NaN                   NaN                 Python   \n",
       "1         2         2     NaN                   NaN                      C   \n",
       "2         3         4     NaN                   NaN                    C++   \n",
       "3         4         3     NaN                   NaN                   Java   \n",
       "4         5         5     NaN                   NaN                     C#   \n",
       "\n",
       "  Ratings Change.1  \n",
       "0  16.66%   +3.76%  \n",
       "1  16.56%   +4.77%  \n",
       "2  11.94%   +4.21%  \n",
       "3  11.82%   +1.70%  \n",
       "4   4.92%   -1.48%  "
      ]
     },
     "execution_count": 13,
     "metadata": {},
     "output_type": "execute_result"
    }
   ],
   "source": [
    "df = tiobeindexpy.top_20()\n",
    "df.head()"
   ]
  },
  {
   "cell_type": "markdown",
   "metadata": {},
   "source": [
    "📝 А как считать данные из excel-файла? Подсказка: функция `pd.something()`"
   ]
  },
  {
   "cell_type": "code",
   "execution_count": null,
   "metadata": {},
   "outputs": [],
   "source": []
  },
  {
   "cell_type": "markdown",
   "metadata": {},
   "source": [
    "### Clean the data"
   ]
  },
  {
   "cell_type": "code",
   "execution_count": null,
   "metadata": {},
   "outputs": [
    {
     "data": {
      "text/html": [
       "<div>\n",
       "<style scoped>\n",
       "    .dataframe tbody tr th:only-of-type {\n",
       "        vertical-align: middle;\n",
       "    }\n",
       "\n",
       "    .dataframe tbody tr th {\n",
       "        vertical-align: top;\n",
       "    }\n",
       "\n",
       "    .dataframe thead th {\n",
       "        text-align: right;\n",
       "    }\n",
       "</style>\n",
       "<table border=\"1\" class=\"dataframe\">\n",
       "  <thead>\n",
       "    <tr style=\"text-align: right;\">\n",
       "      <th></th>\n",
       "      <th>Dec 2022</th>\n",
       "      <th>Dec 2021</th>\n",
       "      <th>Programming Language.1</th>\n",
       "      <th>Ratings</th>\n",
       "      <th>Change.1</th>\n",
       "    </tr>\n",
       "  </thead>\n",
       "  <tbody>\n",
       "    <tr>\n",
       "      <th>0</th>\n",
       "      <td>1</td>\n",
       "      <td>1</td>\n",
       "      <td>Python</td>\n",
       "      <td>16.66%</td>\n",
       "      <td>+3.76%</td>\n",
       "    </tr>\n",
       "    <tr>\n",
       "      <th>1</th>\n",
       "      <td>2</td>\n",
       "      <td>2</td>\n",
       "      <td>C</td>\n",
       "      <td>16.56%</td>\n",
       "      <td>+4.77%</td>\n",
       "    </tr>\n",
       "    <tr>\n",
       "      <th>2</th>\n",
       "      <td>3</td>\n",
       "      <td>4</td>\n",
       "      <td>C++</td>\n",
       "      <td>11.94%</td>\n",
       "      <td>+4.21%</td>\n",
       "    </tr>\n",
       "    <tr>\n",
       "      <th>3</th>\n",
       "      <td>4</td>\n",
       "      <td>3</td>\n",
       "      <td>Java</td>\n",
       "      <td>11.82%</td>\n",
       "      <td>+1.70%</td>\n",
       "    </tr>\n",
       "    <tr>\n",
       "      <th>4</th>\n",
       "      <td>5</td>\n",
       "      <td>5</td>\n",
       "      <td>C#</td>\n",
       "      <td>4.92%</td>\n",
       "      <td>-1.48%</td>\n",
       "    </tr>\n",
       "  </tbody>\n",
       "</table>\n",
       "</div>"
      ],
      "text/plain": [
       "   Dec 2022  Dec 2021 Programming Language.1 Ratings Change.1\n",
       "0         1         1                 Python  16.66%   +3.76%\n",
       "1         2         2                      C  16.56%   +4.77%\n",
       "2         3         4                    C++  11.94%   +4.21%\n",
       "3         4         3                   Java  11.82%   +1.70%\n",
       "4         5         5                     C#   4.92%   -1.48%"
      ]
     },
     "execution_count": 14,
     "metadata": {},
     "output_type": "execute_result"
    }
   ],
   "source": [
    "df.dropna(axis='columns', inplace=True)\n",
    "df.head()"
   ]
  },
  {
   "cell_type": "markdown",
   "metadata": {},
   "source": [
    "📝 Как посмотреть информацию о датафрейме?"
   ]
  },
  {
   "cell_type": "code",
   "execution_count": null,
   "metadata": {},
   "outputs": [],
   "source": []
  },
  {
   "cell_type": "code",
   "execution_count": null,
   "metadata": {},
   "outputs": [],
   "source": [
    "def percent_to_float(x):\n",
    "    return float(x.strip('%'))"
   ]
  },
  {
   "cell_type": "code",
   "execution_count": null,
   "metadata": {},
   "outputs": [
    {
     "data": {
      "text/plain": [
       "0    3.76\n",
       "1    4.77\n",
       "2    4.21\n",
       "3    1.70\n",
       "4   -1.48\n",
       "Name: Change.1, dtype: float64"
      ]
     },
     "execution_count": 17,
     "metadata": {},
     "output_type": "execute_result"
    }
   ],
   "source": [
    "df['Change.1'].apply(percent_to_float).head()"
   ]
  },
  {
   "cell_type": "markdown",
   "metadata": {},
   "source": [
    "📝 Как записать очищенные данные в соответствующие колонки?"
   ]
  },
  {
   "cell_type": "code",
   "execution_count": null,
   "metadata": {},
   "outputs": [],
   "source": []
  },
  {
   "cell_type": "code",
   "execution_count": null,
   "metadata": {},
   "outputs": [],
   "source": [
    "df.rename(inplace=True, columns={\n",
    "    'Programming Language.1':'Programming Language',\n",
    "    'Change.1':'Change (%)',\n",
    "    'Ratings':'Ratings (%)'\n",
    "})"
   ]
  },
  {
   "cell_type": "markdown",
   "metadata": {},
   "source": [
    "📝 Как вывести первые несколько строк итогового датафрейма?"
   ]
  },
  {
   "cell_type": "code",
   "execution_count": null,
   "metadata": {},
   "outputs": [],
   "source": []
  },
  {
   "cell_type": "markdown",
   "metadata": {},
   "source": [
    "### Plot popularity"
   ]
  },
  {
   "cell_type": "markdown",
   "metadata": {},
   "source": [
    "📝 Как получить список всех колонок?"
   ]
  },
  {
   "cell_type": "code",
   "execution_count": null,
   "metadata": {},
   "outputs": [],
   "source": []
  },
  {
   "cell_type": "code",
   "execution_count": null,
   "metadata": {},
   "outputs": [
    {
     "data": {
      "text/plain": [
       "'Dec 2022'"
      ]
     },
     "execution_count": 26,
     "metadata": {},
     "output_type": "execute_result"
    }
   ],
   "source": [
    "columns[0]"
   ]
  },
  {
   "cell_type": "code",
   "execution_count": null,
   "metadata": {},
   "outputs": [],
   "source": [
    "label = str(columns[0])"
   ]
  },
  {
   "cell_type": "code",
   "execution_count": null,
   "metadata": {},
   "outputs": [],
   "source": [
    "def popularity_barplot(df, label, target='Programming Language', sort_by='Ratings (%)', n_top=10):\n",
    "\n",
    "    sns.barplot(\n",
    "        x=sort_by, y=target, data=df.head(n_top).sort_values(by=sort_by, ascending=False),\n",
    "        palette='crest_r',\n",
    "    )\n",
    "\n",
    "    plt.title(f'Popularity of Programming Languages ({label})')\n",
    "    plt.bar_label(plt.gca().containers[0], fmt='%.2f%%')\n",
    "\n",
    "    sns.despine()\n",
    "    plt.show()"
   ]
  },
  {
   "cell_type": "code",
   "execution_count": null,
   "metadata": {},
   "outputs": [
    {
     "data": {
      "image/png": "[encoded data removed]",
      "text/plain": [
       "<Figure size 640x480 with 1 Axes>"
      ]
     },
     "metadata": {},
     "output_type": "display_data"
    }
   ],
   "source": [
    "popularity_barplot(df, label)"
   ]
  },
  {
   "cell_type": "code",
   "execution_count": null,
   "metadata": {},
   "outputs": [],
   "source": [
    "label = columns[1] + ' - ' + columns[0]"
   ]
  },
  {
   "cell_type": "markdown",
   "metadata": {},
   "source": [
    "📝 Как вывести аналогичный график для изменения популярности за последний год для 4 языков?"
   ]
  },
  {
   "cell_type": "code",
   "execution_count": null,
   "metadata": {},
   "outputs": [
    {
     "data": {
      "image/png": "[encoded data removed]",
      "text/plain": [
       "<Figure size 640x480 with 1 Axes>"
      ]
     },
     "metadata": {},
     "output_type": "display_data"
    }
   ],
   "source": [
    "popularity_barplot(df, label, sort_by='Change (%)', n_top=4)"
   ]
  },
  {
   "cell_type": "markdown",
   "metadata": {},
   "source": [
    "### See the change for 1 language"
   ]
  },
  {
   "cell_type": "code",
   "execution_count": null,
   "metadata": {},
   "outputs": [
    {
     "data": {
      "text/html": [
       "<div>\n",
       "<style scoped>\n",
       "    .dataframe tbody tr th:only-of-type {\n",
       "        vertical-align: middle;\n",
       "    }\n",
       "\n",
       "    .dataframe tbody tr th {\n",
       "        vertical-align: top;\n",
       "    }\n",
       "\n",
       "    .dataframe thead th {\n",
       "        text-align: right;\n",
       "    }\n",
       "</style>\n",
       "<table border=\"1\" class=\"dataframe\">\n",
       "  <thead>\n",
       "    <tr style=\"text-align: right;\">\n",
       "      <th></th>\n",
       "      <th>Dec 2022</th>\n",
       "      <th>Dec 2021</th>\n",
       "      <th>Programming Language</th>\n",
       "      <th>Ratings (%)</th>\n",
       "      <th>Change (%)</th>\n",
       "    </tr>\n",
       "  </thead>\n",
       "  <tbody>\n",
       "    <tr>\n",
       "      <th>0</th>\n",
       "      <td>1</td>\n",
       "      <td>1</td>\n",
       "      <td>Python</td>\n",
       "      <td>16.66</td>\n",
       "      <td>3.76</td>\n",
       "    </tr>\n",
       "    <tr>\n",
       "      <th>1</th>\n",
       "      <td>2</td>\n",
       "      <td>2</td>\n",
       "      <td>C</td>\n",
       "      <td>16.56</td>\n",
       "      <td>4.77</td>\n",
       "    </tr>\n",
       "    <tr>\n",
       "      <th>2</th>\n",
       "      <td>3</td>\n",
       "      <td>4</td>\n",
       "      <td>C++</td>\n",
       "      <td>11.94</td>\n",
       "      <td>4.21</td>\n",
       "    </tr>\n",
       "    <tr>\n",
       "      <th>3</th>\n",
       "      <td>4</td>\n",
       "      <td>3</td>\n",
       "      <td>Java</td>\n",
       "      <td>11.82</td>\n",
       "      <td>1.70</td>\n",
       "    </tr>\n",
       "    <tr>\n",
       "      <th>4</th>\n",
       "      <td>5</td>\n",
       "      <td>5</td>\n",
       "      <td>C#</td>\n",
       "      <td>4.92</td>\n",
       "      <td>-1.48</td>\n",
       "    </tr>\n",
       "  </tbody>\n",
       "</table>\n",
       "</div>"
      ],
      "text/plain": [
       "   Dec 2022  Dec 2021 Programming Language  Ratings (%)  Change (%)\n",
       "0         1         1               Python        16.66        3.76\n",
       "1         2         2                    C        16.56        4.77\n",
       "2         3         4                  C++        11.94        4.21\n",
       "3         4         3                 Java        11.82        1.70\n",
       "4         5         5                   C#         4.92       -1.48"
      ]
     },
     "execution_count": 105,
     "metadata": {},
     "output_type": "execute_result"
    }
   ],
   "source": [
    "df.head()"
   ]
  },
  {
   "cell_type": "markdown",
   "metadata": {},
   "source": [
    "📝 Как получить процент за прошлый год и записать его в новую колонку?"
   ]
  },
  {
   "cell_type": "code",
   "execution_count": null,
   "metadata": {},
   "outputs": [],
   "source": []
  },
  {
   "cell_type": "code",
   "execution_count": null,
   "metadata": {},
   "outputs": [
    {
     "data": {
      "text/html": [
       "<div>\n",
       "<style scoped>\n",
       "    .dataframe tbody tr th:only-of-type {\n",
       "        vertical-align: middle;\n",
       "    }\n",
       "\n",
       "    .dataframe tbody tr th {\n",
       "        vertical-align: top;\n",
       "    }\n",
       "\n",
       "    .dataframe thead th {\n",
       "        text-align: right;\n",
       "    }\n",
       "</style>\n",
       "<table border=\"1\" class=\"dataframe\">\n",
       "  <thead>\n",
       "    <tr style=\"text-align: right;\">\n",
       "      <th></th>\n",
       "      <th>Dec 2022</th>\n",
       "      <th>Dec 2021</th>\n",
       "      <th>Programming Language</th>\n",
       "      <th>Ratings (%)</th>\n",
       "      <th>Change (%)</th>\n",
       "      <th>Old Ratings (%)</th>\n",
       "    </tr>\n",
       "  </thead>\n",
       "  <tbody>\n",
       "    <tr>\n",
       "      <th>0</th>\n",
       "      <td>1</td>\n",
       "      <td>1</td>\n",
       "      <td>Python</td>\n",
       "      <td>16.66</td>\n",
       "      <td>3.76</td>\n",
       "      <td>12.90</td>\n",
       "    </tr>\n",
       "    <tr>\n",
       "      <th>1</th>\n",
       "      <td>2</td>\n",
       "      <td>2</td>\n",
       "      <td>C</td>\n",
       "      <td>16.56</td>\n",
       "      <td>4.77</td>\n",
       "      <td>11.79</td>\n",
       "    </tr>\n",
       "    <tr>\n",
       "      <th>2</th>\n",
       "      <td>3</td>\n",
       "      <td>4</td>\n",
       "      <td>C++</td>\n",
       "      <td>11.94</td>\n",
       "      <td>4.21</td>\n",
       "      <td>7.73</td>\n",
       "    </tr>\n",
       "    <tr>\n",
       "      <th>3</th>\n",
       "      <td>4</td>\n",
       "      <td>3</td>\n",
       "      <td>Java</td>\n",
       "      <td>11.82</td>\n",
       "      <td>1.70</td>\n",
       "      <td>10.12</td>\n",
       "    </tr>\n",
       "    <tr>\n",
       "      <th>4</th>\n",
       "      <td>5</td>\n",
       "      <td>5</td>\n",
       "      <td>C#</td>\n",
       "      <td>4.92</td>\n",
       "      <td>-1.48</td>\n",
       "      <td>6.40</td>\n",
       "    </tr>\n",
       "  </tbody>\n",
       "</table>\n",
       "</div>"
      ],
      "text/plain": [
       "   Dec 2022  Dec 2021 Programming Language  Ratings (%)  Change (%)  \\\n",
       "0         1         1               Python        16.66        3.76   \n",
       "1         2         2                    C        16.56        4.77   \n",
       "2         3         4                  C++        11.94        4.21   \n",
       "3         4         3                 Java        11.82        1.70   \n",
       "4         5         5                   C#         4.92       -1.48   \n",
       "\n",
       "   Old Ratings (%)  \n",
       "0            12.90  \n",
       "1            11.79  \n",
       "2             7.73  \n",
       "3            10.12  \n",
       "4             6.40  "
      ]
     },
     "execution_count": 108,
     "metadata": {},
     "output_type": "execute_result"
    }
   ],
   "source": [
    "df.head()"
   ]
  },
  {
   "cell_type": "code",
   "execution_count": null,
   "metadata": {},
   "outputs": [
    {
     "data": {
      "text/html": [
       "<div>\n",
       "<style scoped>\n",
       "    .dataframe tbody tr th:only-of-type {\n",
       "        vertical-align: middle;\n",
       "    }\n",
       "\n",
       "    .dataframe tbody tr th {\n",
       "        vertical-align: top;\n",
       "    }\n",
       "\n",
       "    .dataframe thead th {\n",
       "        text-align: right;\n",
       "    }\n",
       "</style>\n",
       "<table border=\"1\" class=\"dataframe\">\n",
       "  <thead>\n",
       "    <tr style=\"text-align: right;\">\n",
       "      <th></th>\n",
       "      <th>Dec 2022</th>\n",
       "      <th>Dec 2021</th>\n",
       "      <th>Programming Language</th>\n",
       "      <th>Ratings (%)</th>\n",
       "      <th>Change (%)</th>\n",
       "      <th>Old Ratings (%)</th>\n",
       "    </tr>\n",
       "  </thead>\n",
       "  <tbody>\n",
       "    <tr>\n",
       "      <th>6</th>\n",
       "      <td>7</td>\n",
       "      <td>7</td>\n",
       "      <td>JavaScript</td>\n",
       "      <td>3.19</td>\n",
       "      <td>0.9</td>\n",
       "      <td>2.29</td>\n",
       "    </tr>\n",
       "  </tbody>\n",
       "</table>\n",
       "</div>"
      ],
      "text/plain": [
       "   Dec 2022  Dec 2021 Programming Language  Ratings (%)  Change (%)  \\\n",
       "6         7         7           JavaScript         3.19         0.9   \n",
       "\n",
       "   Old Ratings (%)  \n",
       "6             2.29  "
      ]
     },
     "execution_count": 148,
     "metadata": {},
     "output_type": "execute_result"
    }
   ],
   "source": [
    "df[df['Programming Language'] == 'JavaScript']"
   ]
  },
  {
   "cell_type": "code",
   "execution_count": null,
   "metadata": {},
   "outputs": [],
   "source": []
  }
 ],
 "metadata": {
  "kernelspec": {
   "display_name": "Python 3.8.13 ('base')",
   "language": "python",
   "name": "python3"
  },
  "language_info": {
   "codemirror_mode": {
    "name": "ipython",
    "version": 3
   },
   "file_extension": ".py",
   "mimetype": "text/x-python",
   "name": "python",
   "nbconvert_exporter": "python",
   "pygments_lexer": "ipython3",
   "version": "3.8.13"
  },
  "orig_nbformat": 4,
  "vscode": {
   "interpreter": {
    "hash": "57818da3ee1fd01d36d722dc5d70d8ee0174abb1fbd688f676d98834109492dc"
   }
  }
 },
 "nbformat": 4,
 "nbformat_minor": 2
}
